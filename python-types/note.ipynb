{
 "cells": [
  {
   "cell_type": "code",
   "execution_count": 1,
   "id": "71e3d505",
   "metadata": {},
   "outputs": [
    {
     "name": "stdout",
     "output_type": "stream",
     "text": [
      "Jeong Ho\n"
     ]
    }
   ],
   "source": [
    "def get_full_name(first_name:str,last_name:str):\n",
    "    full_name=first_name.title()+\" \"+last_name.title()\n",
    "    return full_name\n",
    "\n",
    "print(get_full_name(\"jeong\",\"ho\"))"
   ]
  },
  {
   "cell_type": "code",
   "execution_count": 2,
   "id": "82d03b34",
   "metadata": {},
   "outputs": [],
   "source": [
    "from typing import List\n",
    "#대괄호 안의 내부 타입은 \"타입 매개변수(type paramters)\"라고 합니다.\n",
    "#이번 예제에서는 str이 List에 들어간 타입 매개변수 입니다.\n",
    "#이는 \"items은 list인데, 배열에 들어있는 아이템 각각은 str이다\"라는 뜻입니다.\n",
    "def process_items(items: List[str]):\n",
    "    for item in items:\n",
    "        print(item)"
   ]
  },
  {
   "cell_type": "code",
   "execution_count": 3,
   "id": "85e0830e",
   "metadata": {},
   "outputs": [],
   "source": [
    "from typing import Set, Tuple\n",
    "#변수 items_t는, 차례대로 int, int, str인 tuple이다.\n",
    "#변수 items_s는, 각 아이템이 bytes인 set이다.\n",
    "\n",
    "def process_items(items_t: Tuple[int, int, str], items_s: Set[bytes]):\n",
    "    return items_t, items_s"
   ]
  },
  {
   "cell_type": "code",
   "execution_count": null,
   "id": "e42e2b5b",
   "metadata": {},
   "outputs": [],
   "source": [
    "# Dict\n",
    "# dict를 선언하려면 컴마로 구분된 2개의 파라미터가 필요합니다.\n",
    "# 첫 번째 매개변수는 dict의 키(key)이고,\n",
    "# 두 번째 매개변수는 dict의 값(value)입니다.\n",
    "\n",
    "from typing import Dict\n",
    "\n",
    "\n",
    "def process_items(prices: Dict[str, float]):\n",
    "    for item_name, item_price in prices.items():\n",
    "        print(item_name)\n",
    "        print(item_price)\n",
    "# 이 뜻은 아래와 같습니다:\n",
    "\n",
    "# 변수 prices는 dict이다:\n",
    "# dict의 키(key)는 str타입이다. (각 아이템의 이름(name))\n",
    "# dict의 값(value)는 float타입이다. (각 아이템의 가격(price))\n"
   ]
  },
  {
   "cell_type": "code",
   "execution_count": 4,
   "id": "185234b3",
   "metadata": {},
   "outputs": [],
   "source": [
    "# Optional¶\n",
    "# str과 같이 타입을 선언할 때 Optional을 쓸 수도 있는데, \"선택적(Optional)\"이기때문에 None도 될 수 있습니다:\n",
    "from typing import Optional\n",
    "def say_hi(name: Optional[str] = None):\n",
    "    if name is not None:\n",
    "        print(f\"Hey {name}!\")\n",
    "    else:\n",
    "        print(\"Hello World\")\n",
    "#Optional[str]을 str 대신 쓰게 되면, 특정 값이 실제로는 None이 될 수도 있는데 항상 str이라고 가정하는 상황에서 에디터가 에러를 찾게 도와줄 수 있습니다."
   ]
  },
  {
   "cell_type": "code",
   "execution_count": 5,
   "id": "3799ed45",
   "metadata": {},
   "outputs": [],
   "source": [
    "#위와 같은 타입은 Generic(제네릭) 타입 혹은 Generics(제네릭스)라고 불립니다."
   ]
  },
  {
   "cell_type": "code",
   "execution_count": 6,
   "id": "c295b4d6",
   "metadata": {},
   "outputs": [],
   "source": [
    "class Person:\n",
    "    def __init__(self, name: str):\n",
    "        self.name = name\n",
    "def get_person_name(one_person: Person):\n",
    "    return one_person.name"
   ]
  },
  {
   "cell_type": "markdown",
   "id": "2bcbcb79",
   "metadata": {},
   "source": [
    "| 코드 요소 | 비유 |\n",
    "|-----------|------|\n",
    "| `Person` 클래스 | 신분증(데이터를 담은 객체) |\n",
    "| `__init__()` | 신분증을 발급하면서 이름을 적는 과정 |\n",
    "| `get_person_name()` | 공무원이 신분증에서 이름을 읽는 과정 |\n",
    "| `one_person: Person` | 공무원이 ‘사람의 신분증’만 받는다는 조건 (타입 힌트) |"
   ]
  },
  {
   "cell_type": "markdown",
   "id": "e5bdb76e",
   "metadata": {},
   "source": [
    "Pydantic은 데이터 검증(Validation)을 위한 파이썬 라이브러리입니다.\n",
    "\n",
    "- “클래스를 이용해 데이터 구조를 정의할 수 있어요.”\n",
    "- “각 속성에는 어떤 자료형이 들어갈지 미리 정해져 있어요.”\n",
    "- “FastAPI는 타입을 알아서 검사하고, 필요한 경우 자동으로 변환해줘요.”"
   ]
  },
  {
   "cell_type": "markdown",
   "id": "01050bf3",
   "metadata": {},
   "source": [
    "🔍 “스키마”란?\n",
    "**스키마(Schema)**란,\n",
    "\n",
    "“어떤 데이터나 시스템이 어떤 구조로 되어 있는지를 설명하는 설계도”입니다.\n",
    "\n",
    "즉, 코드 그 자체가 아니라,\n",
    "그 코드가 어떤 구조를 가지고 어떤 데이터를 다루는지에 대한 설명이라고 볼 수 있어요.\n",
    "\n"
   ]
  },
  {
   "cell_type": "markdown",
   "id": "a06a10d9",
   "metadata": {},
   "source": [
    "FastAPI는 OpenAPI를 기반으로 다음과 같은 API 구조 정보를 자동 생성합니다:\n",
    "\n",
    "엔드포인트(URL 경로)\n",
    "\n",
    "사용 가능한 HTTP 메서드 (GET, POST 등)\n",
    "\n",
    "요청에 포함할 매개변수들\n",
    "\n",
    "응답 형식과 상태 코드\n",
    "\n",
    "전송되는 JSON 데이터의 형태\n",
    "\n",
    "| 메서드 | 의미 | 언제 쓰나? |\n",
    "|--------|------|------------|\n",
    "| **GET** | 데이터 가져오기 | 목록 보기, 상세 보기 |\n",
    "| **POST** | 새로운 데이터 만들기 | 회원가입, 글 작성, 파일 업로드 |\n",
    "| **PUT** | 기존 데이터 전체 수정 | 게시글 전체 덮어쓰기 |\n",
    "| **PATCH** | 기존 데이터 일부 수정 | 게시글 내용만 수정 |\n",
    "| **DELETE** | 데이터 삭제 | 회원탈퇴, 게시글 삭제 |\n",
    "\n",
    "| 항목 | 설명 |\n",
    "|------|------|\n",
    "| API 스키마 | 어떤 API 경로, 어떤 요청/응답, 어떤 데이터가 오가는지를 설명 |\n",
    "| 데이터 스키마 | 요청/응답 데이터 구조에 대한 정의 (예: JSON 구조) |\n"
   ]
  },
  {
   "cell_type": "code",
   "execution_count": 1,
   "id": "d6e47c87",
   "metadata": {},
   "outputs": [
    {
     "name": "stdout",
     "output_type": "stream",
     "text": [
      "1.0\n"
     ]
    }
   ],
   "source": [
    "import pandas as pd\n",
    "import numpy as np\n",
    "\n",
    "df = pd.read_csv(\"C:/AI/SIXTHSENSE/dog_nose_cos/checkpoints/seresnext50_ibn_custom_nose_vectors_mean.csv\")\n",
    "vec = df.iloc[0, 2:].values.astype(np.float32)  # f0 ~ f511\n",
    "print(np.linalg.norm(vec))  # 1.0이면 정규화 완료된 벡터\n"
   ]
  }
 ],
 "metadata": {
  "kernelspec": {
   "display_name": "god",
   "language": "python",
   "name": "python3"
  },
  "language_info": {
   "codemirror_mode": {
    "name": "ipython",
    "version": 3
   },
   "file_extension": ".py",
   "mimetype": "text/x-python",
   "name": "python",
   "nbconvert_exporter": "python",
   "pygments_lexer": "ipython3",
   "version": "3.10.16"
  }
 },
 "nbformat": 4,
 "nbformat_minor": 5
}
